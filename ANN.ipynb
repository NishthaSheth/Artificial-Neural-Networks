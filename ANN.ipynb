{
  "nbformat": 4,
  "nbformat_minor": 0,
  "metadata": {
    "colab": {
      "provenance": []
    },
    "kernelspec": {
      "name": "python3",
      "display_name": "Python 3"
    },
    "language_info": {
      "name": "python"
    }
  },
  "cells": [
    {
      "cell_type": "code",
      "execution_count": 38,
      "metadata": {
        "id": "NpZO2ke-fEvy"
      },
      "outputs": [],
      "source": [
        "import pandas as pd\n",
        "import numpy as np\n",
        "from sklearn.model_selection import train_test_split\n",
        "from sklearn.metrics import classification_report, confusion_matrix, r2_score\n",
        "from sklearn import metrics\n",
        "from sklearn.preprocessing import StandardScaler, MinMaxScaler, RobustScaler\n",
        "from sklearn.preprocessing import LabelEncoder\n",
        "from sklearn.linear_model import LinearRegression\n",
        "from sklearn.metrics import mean_absolute_error\n",
        "from sklearn.preprocessing import StandardScaler,PolynomialFeatures"
      ]
    },
    {
      "cell_type": "code",
      "source": [
        "df1 = pd.read_csv('/content/HousePricePrediction.csv')\n",
        "df1.sample(5)"
      ],
      "metadata": {
        "colab": {
          "base_uri": "https://localhost:8080/",
          "height": 255
        },
        "id": "kKFGo0rDgl86",
        "outputId": "4d6a00e0-e6c8-47a8-c517-9f6791331960"
      },
      "execution_count": 39,
      "outputs": [
        {
          "output_type": "execute_result",
          "data": {
            "text/plain": [
              "        Id  MSSubClass MSZoning  LotFrontage  LotArea Street Alley LotShape  \\\n",
              "946    947          80       RL         70.0     8163   Pave   NaN      Reg   \n",
              "1066  1067          60       RL         59.0     7837   Pave   NaN      IR1   \n",
              "42      43          85       RL          NaN     9180   Pave   NaN      IR1   \n",
              "680    681         120       RL         50.0     8012   Pave   NaN      Reg   \n",
              "343    344         120       RL         63.0     8849   Pave   NaN      IR1   \n",
              "\n",
              "     LandContour Utilities  ... PoolArea PoolQC  Fence MiscFeature MiscVal  \\\n",
              "946          Lvl    AllPub  ...        0    NaN    NaN         NaN       0   \n",
              "1066         Lvl    AllPub  ...        0    NaN    NaN         NaN       0   \n",
              "42           Lvl    AllPub  ...        0    NaN  MnPrv         NaN       0   \n",
              "680          Lvl    AllPub  ...        0    NaN    NaN         NaN       0   \n",
              "343          Lvl    AllPub  ...        0    NaN    NaN         NaN       0   \n",
              "\n",
              "     MoSold YrSold  SaleType  SaleCondition  SalePrice  \n",
              "946       3   2006        WD         Normal     143000  \n",
              "1066      5   2009        WD         Normal     178000  \n",
              "42       12   2007        WD         Normal     144000  \n",
              "680       5   2010        WD         Normal     143000  \n",
              "343       7   2008        WD         Normal     266000  \n",
              "\n",
              "[5 rows x 81 columns]"
            ],
            "text/html": [
              "\n",
              "  <div id=\"df-f990f19c-1648-4483-9fad-4aba453614ab\" class=\"colab-df-container\">\n",
              "    <div>\n",
              "<style scoped>\n",
              "    .dataframe tbody tr th:only-of-type {\n",
              "        vertical-align: middle;\n",
              "    }\n",
              "\n",
              "    .dataframe tbody tr th {\n",
              "        vertical-align: top;\n",
              "    }\n",
              "\n",
              "    .dataframe thead th {\n",
              "        text-align: right;\n",
              "    }\n",
              "</style>\n",
              "<table border=\"1\" class=\"dataframe\">\n",
              "  <thead>\n",
              "    <tr style=\"text-align: right;\">\n",
              "      <th></th>\n",
              "      <th>Id</th>\n",
              "      <th>MSSubClass</th>\n",
              "      <th>MSZoning</th>\n",
              "      <th>LotFrontage</th>\n",
              "      <th>LotArea</th>\n",
              "      <th>Street</th>\n",
              "      <th>Alley</th>\n",
              "      <th>LotShape</th>\n",
              "      <th>LandContour</th>\n",
              "      <th>Utilities</th>\n",
              "      <th>...</th>\n",
              "      <th>PoolArea</th>\n",
              "      <th>PoolQC</th>\n",
              "      <th>Fence</th>\n",
              "      <th>MiscFeature</th>\n",
              "      <th>MiscVal</th>\n",
              "      <th>MoSold</th>\n",
              "      <th>YrSold</th>\n",
              "      <th>SaleType</th>\n",
              "      <th>SaleCondition</th>\n",
              "      <th>SalePrice</th>\n",
              "    </tr>\n",
              "  </thead>\n",
              "  <tbody>\n",
              "    <tr>\n",
              "      <th>946</th>\n",
              "      <td>947</td>\n",
              "      <td>80</td>\n",
              "      <td>RL</td>\n",
              "      <td>70.0</td>\n",
              "      <td>8163</td>\n",
              "      <td>Pave</td>\n",
              "      <td>NaN</td>\n",
              "      <td>Reg</td>\n",
              "      <td>Lvl</td>\n",
              "      <td>AllPub</td>\n",
              "      <td>...</td>\n",
              "      <td>0</td>\n",
              "      <td>NaN</td>\n",
              "      <td>NaN</td>\n",
              "      <td>NaN</td>\n",
              "      <td>0</td>\n",
              "      <td>3</td>\n",
              "      <td>2006</td>\n",
              "      <td>WD</td>\n",
              "      <td>Normal</td>\n",
              "      <td>143000</td>\n",
              "    </tr>\n",
              "    <tr>\n",
              "      <th>1066</th>\n",
              "      <td>1067</td>\n",
              "      <td>60</td>\n",
              "      <td>RL</td>\n",
              "      <td>59.0</td>\n",
              "      <td>7837</td>\n",
              "      <td>Pave</td>\n",
              "      <td>NaN</td>\n",
              "      <td>IR1</td>\n",
              "      <td>Lvl</td>\n",
              "      <td>AllPub</td>\n",
              "      <td>...</td>\n",
              "      <td>0</td>\n",
              "      <td>NaN</td>\n",
              "      <td>NaN</td>\n",
              "      <td>NaN</td>\n",
              "      <td>0</td>\n",
              "      <td>5</td>\n",
              "      <td>2009</td>\n",
              "      <td>WD</td>\n",
              "      <td>Normal</td>\n",
              "      <td>178000</td>\n",
              "    </tr>\n",
              "    <tr>\n",
              "      <th>42</th>\n",
              "      <td>43</td>\n",
              "      <td>85</td>\n",
              "      <td>RL</td>\n",
              "      <td>NaN</td>\n",
              "      <td>9180</td>\n",
              "      <td>Pave</td>\n",
              "      <td>NaN</td>\n",
              "      <td>IR1</td>\n",
              "      <td>Lvl</td>\n",
              "      <td>AllPub</td>\n",
              "      <td>...</td>\n",
              "      <td>0</td>\n",
              "      <td>NaN</td>\n",
              "      <td>MnPrv</td>\n",
              "      <td>NaN</td>\n",
              "      <td>0</td>\n",
              "      <td>12</td>\n",
              "      <td>2007</td>\n",
              "      <td>WD</td>\n",
              "      <td>Normal</td>\n",
              "      <td>144000</td>\n",
              "    </tr>\n",
              "    <tr>\n",
              "      <th>680</th>\n",
              "      <td>681</td>\n",
              "      <td>120</td>\n",
              "      <td>RL</td>\n",
              "      <td>50.0</td>\n",
              "      <td>8012</td>\n",
              "      <td>Pave</td>\n",
              "      <td>NaN</td>\n",
              "      <td>Reg</td>\n",
              "      <td>Lvl</td>\n",
              "      <td>AllPub</td>\n",
              "      <td>...</td>\n",
              "      <td>0</td>\n",
              "      <td>NaN</td>\n",
              "      <td>NaN</td>\n",
              "      <td>NaN</td>\n",
              "      <td>0</td>\n",
              "      <td>5</td>\n",
              "      <td>2010</td>\n",
              "      <td>WD</td>\n",
              "      <td>Normal</td>\n",
              "      <td>143000</td>\n",
              "    </tr>\n",
              "    <tr>\n",
              "      <th>343</th>\n",
              "      <td>344</td>\n",
              "      <td>120</td>\n",
              "      <td>RL</td>\n",
              "      <td>63.0</td>\n",
              "      <td>8849</td>\n",
              "      <td>Pave</td>\n",
              "      <td>NaN</td>\n",
              "      <td>IR1</td>\n",
              "      <td>Lvl</td>\n",
              "      <td>AllPub</td>\n",
              "      <td>...</td>\n",
              "      <td>0</td>\n",
              "      <td>NaN</td>\n",
              "      <td>NaN</td>\n",
              "      <td>NaN</td>\n",
              "      <td>0</td>\n",
              "      <td>7</td>\n",
              "      <td>2008</td>\n",
              "      <td>WD</td>\n",
              "      <td>Normal</td>\n",
              "      <td>266000</td>\n",
              "    </tr>\n",
              "  </tbody>\n",
              "</table>\n",
              "<p>5 rows × 81 columns</p>\n",
              "</div>\n",
              "    <div class=\"colab-df-buttons\">\n",
              "\n",
              "  <div class=\"colab-df-container\">\n",
              "    <button class=\"colab-df-convert\" onclick=\"convertToInteractive('df-f990f19c-1648-4483-9fad-4aba453614ab')\"\n",
              "            title=\"Convert this dataframe to an interactive table.\"\n",
              "            style=\"display:none;\">\n",
              "\n",
              "  <svg xmlns=\"http://www.w3.org/2000/svg\" height=\"24px\" viewBox=\"0 -960 960 960\">\n",
              "    <path d=\"M120-120v-720h720v720H120Zm60-500h600v-160H180v160Zm220 220h160v-160H400v160Zm0 220h160v-160H400v160ZM180-400h160v-160H180v160Zm440 0h160v-160H620v160ZM180-180h160v-160H180v160Zm440 0h160v-160H620v160Z\"/>\n",
              "  </svg>\n",
              "    </button>\n",
              "\n",
              "  <style>\n",
              "    .colab-df-container {\n",
              "      display:flex;\n",
              "      gap: 12px;\n",
              "    }\n",
              "\n",
              "    .colab-df-convert {\n",
              "      background-color: #E8F0FE;\n",
              "      border: none;\n",
              "      border-radius: 50%;\n",
              "      cursor: pointer;\n",
              "      display: none;\n",
              "      fill: #1967D2;\n",
              "      height: 32px;\n",
              "      padding: 0 0 0 0;\n",
              "      width: 32px;\n",
              "    }\n",
              "\n",
              "    .colab-df-convert:hover {\n",
              "      background-color: #E2EBFA;\n",
              "      box-shadow: 0px 1px 2px rgba(60, 64, 67, 0.3), 0px 1px 3px 1px rgba(60, 64, 67, 0.15);\n",
              "      fill: #174EA6;\n",
              "    }\n",
              "\n",
              "    .colab-df-buttons div {\n",
              "      margin-bottom: 4px;\n",
              "    }\n",
              "\n",
              "    [theme=dark] .colab-df-convert {\n",
              "      background-color: #3B4455;\n",
              "      fill: #D2E3FC;\n",
              "    }\n",
              "\n",
              "    [theme=dark] .colab-df-convert:hover {\n",
              "      background-color: #434B5C;\n",
              "      box-shadow: 0px 1px 3px 1px rgba(0, 0, 0, 0.15);\n",
              "      filter: drop-shadow(0px 1px 2px rgba(0, 0, 0, 0.3));\n",
              "      fill: #FFFFFF;\n",
              "    }\n",
              "  </style>\n",
              "\n",
              "    <script>\n",
              "      const buttonEl =\n",
              "        document.querySelector('#df-f990f19c-1648-4483-9fad-4aba453614ab button.colab-df-convert');\n",
              "      buttonEl.style.display =\n",
              "        google.colab.kernel.accessAllowed ? 'block' : 'none';\n",
              "\n",
              "      async function convertToInteractive(key) {\n",
              "        const element = document.querySelector('#df-f990f19c-1648-4483-9fad-4aba453614ab');\n",
              "        const dataTable =\n",
              "          await google.colab.kernel.invokeFunction('convertToInteractive',\n",
              "                                                    [key], {});\n",
              "        if (!dataTable) return;\n",
              "\n",
              "        const docLinkHtml = 'Like what you see? Visit the ' +\n",
              "          '<a target=\"_blank\" href=https://colab.research.google.com/notebooks/data_table.ipynb>data table notebook</a>'\n",
              "          + ' to learn more about interactive tables.';\n",
              "        element.innerHTML = '';\n",
              "        dataTable['output_type'] = 'display_data';\n",
              "        await google.colab.output.renderOutput(dataTable, element);\n",
              "        const docLink = document.createElement('div');\n",
              "        docLink.innerHTML = docLinkHtml;\n",
              "        element.appendChild(docLink);\n",
              "      }\n",
              "    </script>\n",
              "  </div>\n",
              "\n",
              "\n",
              "<div id=\"df-5654f9b1-0a54-4d30-8ce6-00deb263f6af\">\n",
              "  <button class=\"colab-df-quickchart\" onclick=\"quickchart('df-5654f9b1-0a54-4d30-8ce6-00deb263f6af')\"\n",
              "            title=\"Suggest charts.\"\n",
              "            style=\"display:none;\">\n",
              "\n",
              "<svg xmlns=\"http://www.w3.org/2000/svg\" height=\"24px\"viewBox=\"0 0 24 24\"\n",
              "     width=\"24px\">\n",
              "    <g>\n",
              "        <path d=\"M19 3H5c-1.1 0-2 .9-2 2v14c0 1.1.9 2 2 2h14c1.1 0 2-.9 2-2V5c0-1.1-.9-2-2-2zM9 17H7v-7h2v7zm4 0h-2V7h2v10zm4 0h-2v-4h2v4z\"/>\n",
              "    </g>\n",
              "</svg>\n",
              "  </button>\n",
              "\n",
              "<style>\n",
              "  .colab-df-quickchart {\n",
              "    background-color: #E8F0FE;\n",
              "    border: none;\n",
              "    border-radius: 50%;\n",
              "    cursor: pointer;\n",
              "    display: none;\n",
              "    fill: #1967D2;\n",
              "    height: 32px;\n",
              "    padding: 0 0 0 0;\n",
              "    width: 32px;\n",
              "  }\n",
              "\n",
              "  .colab-df-quickchart:hover {\n",
              "    background-color: #E2EBFA;\n",
              "    box-shadow: 0px 1px 2px rgba(60, 64, 67, 0.3), 0px 1px 3px 1px rgba(60, 64, 67, 0.15);\n",
              "    fill: #174EA6;\n",
              "  }\n",
              "\n",
              "  [theme=dark] .colab-df-quickchart {\n",
              "    background-color: #3B4455;\n",
              "    fill: #D2E3FC;\n",
              "  }\n",
              "\n",
              "  [theme=dark] .colab-df-quickchart:hover {\n",
              "    background-color: #434B5C;\n",
              "    box-shadow: 0px 1px 3px 1px rgba(0, 0, 0, 0.15);\n",
              "    filter: drop-shadow(0px 1px 2px rgba(0, 0, 0, 0.3));\n",
              "    fill: #FFFFFF;\n",
              "  }\n",
              "</style>\n",
              "\n",
              "  <script>\n",
              "    async function quickchart(key) {\n",
              "      const charts = await google.colab.kernel.invokeFunction(\n",
              "          'suggestCharts', [key], {});\n",
              "    }\n",
              "    (() => {\n",
              "      let quickchartButtonEl =\n",
              "        document.querySelector('#df-5654f9b1-0a54-4d30-8ce6-00deb263f6af button');\n",
              "      quickchartButtonEl.style.display =\n",
              "        google.colab.kernel.accessAllowed ? 'block' : 'none';\n",
              "    })();\n",
              "  </script>\n",
              "</div>\n",
              "    </div>\n",
              "  </div>\n"
            ]
          },
          "metadata": {},
          "execution_count": 39
        }
      ]
    },
    {
      "cell_type": "code",
      "source": [
        "cat_cols = df1.select_dtypes(include=['object'])\n",
        "num_cols = df1.select_dtypes(include=['int64', 'float64'])"
      ],
      "metadata": {
        "id": "Y-txZPd6gx4Y"
      },
      "execution_count": 40,
      "outputs": []
    },
    {
      "cell_type": "code",
      "source": [
        "df1[cat_cols.columns] = df1[cat_cols.columns].fillna('None')"
      ],
      "metadata": {
        "id": "WBP9_usKhU6X"
      },
      "execution_count": 41,
      "outputs": []
    },
    {
      "cell_type": "code",
      "source": [
        "from sklearn import preprocessing\n",
        "le = preprocessing.LabelEncoder()\n",
        "for i in cat_cols.columns:\n",
        "    df1[i] = le.fit_transform(df1[i])"
      ],
      "metadata": {
        "id": "pzekAjTDhifh"
      },
      "execution_count": 42,
      "outputs": []
    },
    {
      "cell_type": "code",
      "source": [
        "corr = df1.corr()['SalePrice']\n",
        "selected = corr[abs(corr) > 0.4]\n",
        "selected"
      ],
      "metadata": {
        "colab": {
          "base_uri": "https://localhost:8080/"
        },
        "id": "q2cB1uZZhkRT",
        "outputId": "c3d0405d-685e-4ff4-fc46-db5f8df4d835"
      },
      "execution_count": 43,
      "outputs": [
        {
          "output_type": "execute_result",
          "data": {
            "text/plain": [
              "OverallQual     0.790982\n",
              "YearBuilt       0.522897\n",
              "YearRemodAdd    0.507101\n",
              "MasVnrArea      0.477493\n",
              "ExterQual      -0.636884\n",
              "BsmtQual       -0.593734\n",
              "TotalBsmtSF     0.613581\n",
              "HeatingQC      -0.400178\n",
              "1stFlrSF        0.605852\n",
              "GrLivArea       0.708624\n",
              "FullBath        0.560664\n",
              "KitchenQual    -0.589189\n",
              "TotRmsAbvGrd    0.533723\n",
              "Fireplaces      0.466929\n",
              "GarageType     -0.415283\n",
              "GarageYrBlt     0.486362\n",
              "GarageFinish   -0.425684\n",
              "GarageCars      0.640409\n",
              "GarageArea      0.623431\n",
              "SalePrice       1.000000\n",
              "Name: SalePrice, dtype: float64"
            ]
          },
          "metadata": {},
          "execution_count": 43
        }
      ]
    },
    {
      "cell_type": "code",
      "source": [
        "df1 = df1[selected.index.to_list()]"
      ],
      "metadata": {
        "id": "JSqbveN-ie8G"
      },
      "execution_count": 44,
      "outputs": []
    },
    {
      "cell_type": "code",
      "source": [
        "df1.corrwith(df1['SalePrice']).abs().sort_values(ascending = False)"
      ],
      "metadata": {
        "colab": {
          "base_uri": "https://localhost:8080/"
        },
        "id": "u42gTSsxjsuX",
        "outputId": "3cd30312-f730-4620-aa86-90b074d37a58"
      },
      "execution_count": 45,
      "outputs": [
        {
          "output_type": "execute_result",
          "data": {
            "text/plain": [
              "SalePrice       1.000000\n",
              "OverallQual     0.790982\n",
              "GrLivArea       0.708624\n",
              "GarageCars      0.640409\n",
              "ExterQual       0.636884\n",
              "GarageArea      0.623431\n",
              "TotalBsmtSF     0.613581\n",
              "1stFlrSF        0.605852\n",
              "BsmtQual        0.593734\n",
              "KitchenQual     0.589189\n",
              "FullBath        0.560664\n",
              "TotRmsAbvGrd    0.533723\n",
              "YearBuilt       0.522897\n",
              "YearRemodAdd    0.507101\n",
              "GarageYrBlt     0.486362\n",
              "MasVnrArea      0.477493\n",
              "Fireplaces      0.466929\n",
              "GarageFinish    0.425684\n",
              "GarageType      0.415283\n",
              "HeatingQC       0.400178\n",
              "dtype: float64"
            ]
          },
          "metadata": {},
          "execution_count": 45
        }
      ]
    },
    {
      "cell_type": "code",
      "source": [
        "df1 = df1[['OverallQual','GrLivArea','GarageCars','ExterQual','SalePrice']]\n",
        "x_train, x_test, y_train, y_test = train_test_split(df1.drop(columns = ['SalePrice']), df1['SalePrice'], test_size = 0.25,random_state = 42)"
      ],
      "metadata": {
        "id": "h-yzHJz3kFQX"
      },
      "execution_count": 46,
      "outputs": []
    },
    {
      "cell_type": "code",
      "source": [
        "model1 = LinearRegression()\n",
        "model1.fit(x_train,y_train)"
      ],
      "metadata": {
        "colab": {
          "base_uri": "https://localhost:8080/",
          "height": 74
        },
        "id": "ZQ2qnjv8l-OJ",
        "outputId": "bfc75704-db16-4d25-a09d-d57650366224"
      },
      "execution_count": 47,
      "outputs": [
        {
          "output_type": "execute_result",
          "data": {
            "text/plain": [
              "LinearRegression()"
            ],
            "text/html": [
              "<style>#sk-container-id-3 {color: black;background-color: white;}#sk-container-id-3 pre{padding: 0;}#sk-container-id-3 div.sk-toggleable {background-color: white;}#sk-container-id-3 label.sk-toggleable__label {cursor: pointer;display: block;width: 100%;margin-bottom: 0;padding: 0.3em;box-sizing: border-box;text-align: center;}#sk-container-id-3 label.sk-toggleable__label-arrow:before {content: \"▸\";float: left;margin-right: 0.25em;color: #696969;}#sk-container-id-3 label.sk-toggleable__label-arrow:hover:before {color: black;}#sk-container-id-3 div.sk-estimator:hover label.sk-toggleable__label-arrow:before {color: black;}#sk-container-id-3 div.sk-toggleable__content {max-height: 0;max-width: 0;overflow: hidden;text-align: left;background-color: #f0f8ff;}#sk-container-id-3 div.sk-toggleable__content pre {margin: 0.2em;color: black;border-radius: 0.25em;background-color: #f0f8ff;}#sk-container-id-3 input.sk-toggleable__control:checked~div.sk-toggleable__content {max-height: 200px;max-width: 100%;overflow: auto;}#sk-container-id-3 input.sk-toggleable__control:checked~label.sk-toggleable__label-arrow:before {content: \"▾\";}#sk-container-id-3 div.sk-estimator input.sk-toggleable__control:checked~label.sk-toggleable__label {background-color: #d4ebff;}#sk-container-id-3 div.sk-label input.sk-toggleable__control:checked~label.sk-toggleable__label {background-color: #d4ebff;}#sk-container-id-3 input.sk-hidden--visually {border: 0;clip: rect(1px 1px 1px 1px);clip: rect(1px, 1px, 1px, 1px);height: 1px;margin: -1px;overflow: hidden;padding: 0;position: absolute;width: 1px;}#sk-container-id-3 div.sk-estimator {font-family: monospace;background-color: #f0f8ff;border: 1px dotted black;border-radius: 0.25em;box-sizing: border-box;margin-bottom: 0.5em;}#sk-container-id-3 div.sk-estimator:hover {background-color: #d4ebff;}#sk-container-id-3 div.sk-parallel-item::after {content: \"\";width: 100%;border-bottom: 1px solid gray;flex-grow: 1;}#sk-container-id-3 div.sk-label:hover label.sk-toggleable__label {background-color: #d4ebff;}#sk-container-id-3 div.sk-serial::before {content: \"\";position: absolute;border-left: 1px solid gray;box-sizing: border-box;top: 0;bottom: 0;left: 50%;z-index: 0;}#sk-container-id-3 div.sk-serial {display: flex;flex-direction: column;align-items: center;background-color: white;padding-right: 0.2em;padding-left: 0.2em;position: relative;}#sk-container-id-3 div.sk-item {position: relative;z-index: 1;}#sk-container-id-3 div.sk-parallel {display: flex;align-items: stretch;justify-content: center;background-color: white;position: relative;}#sk-container-id-3 div.sk-item::before, #sk-container-id-3 div.sk-parallel-item::before {content: \"\";position: absolute;border-left: 1px solid gray;box-sizing: border-box;top: 0;bottom: 0;left: 50%;z-index: -1;}#sk-container-id-3 div.sk-parallel-item {display: flex;flex-direction: column;z-index: 1;position: relative;background-color: white;}#sk-container-id-3 div.sk-parallel-item:first-child::after {align-self: flex-end;width: 50%;}#sk-container-id-3 div.sk-parallel-item:last-child::after {align-self: flex-start;width: 50%;}#sk-container-id-3 div.sk-parallel-item:only-child::after {width: 0;}#sk-container-id-3 div.sk-dashed-wrapped {border: 1px dashed gray;margin: 0 0.4em 0.5em 0.4em;box-sizing: border-box;padding-bottom: 0.4em;background-color: white;}#sk-container-id-3 div.sk-label label {font-family: monospace;font-weight: bold;display: inline-block;line-height: 1.2em;}#sk-container-id-3 div.sk-label-container {text-align: center;}#sk-container-id-3 div.sk-container {/* jupyter's `normalize.less` sets `[hidden] { display: none; }` but bootstrap.min.css set `[hidden] { display: none !important; }` so we also need the `!important` here to be able to override the default hidden behavior on the sphinx rendered scikit-learn.org. See: https://github.com/scikit-learn/scikit-learn/issues/21755 */display: inline-block !important;position: relative;}#sk-container-id-3 div.sk-text-repr-fallback {display: none;}</style><div id=\"sk-container-id-3\" class=\"sk-top-container\"><div class=\"sk-text-repr-fallback\"><pre>LinearRegression()</pre><b>In a Jupyter environment, please rerun this cell to show the HTML representation or trust the notebook. <br />On GitHub, the HTML representation is unable to render, please try loading this page with nbviewer.org.</b></div><div class=\"sk-container\" hidden><div class=\"sk-item\"><div class=\"sk-estimator sk-toggleable\"><input class=\"sk-toggleable__control sk-hidden--visually\" id=\"sk-estimator-id-3\" type=\"checkbox\" checked><label for=\"sk-estimator-id-3\" class=\"sk-toggleable__label sk-toggleable__label-arrow\">LinearRegression</label><div class=\"sk-toggleable__content\"><pre>LinearRegression()</pre></div></div></div></div></div>"
            ]
          },
          "metadata": {},
          "execution_count": 47
        }
      ]
    },
    {
      "cell_type": "code",
      "source": [
        "y_train_pred_linear = model1.predict(x_train)\n",
        "y_test_pred_linear = model1.predict(x_test)\n",
        "mae_train_linear = mean_absolute_error(y_train,y_train_pred_linear)\n",
        "mae_test_linear = mean_absolute_error(y_test,y_test_pred_linear)\n",
        "print('Train MAE:',mae_train_linear,'\\nTest MAE:',mae_test_linear)"
      ],
      "metadata": {
        "colab": {
          "base_uri": "https://localhost:8080/"
        },
        "id": "KgHGSy_8ozmm",
        "outputId": "408bafcb-bc72-466e-ebb7-8cdce045fed7"
      },
      "execution_count": 48,
      "outputs": [
        {
          "output_type": "stream",
          "name": "stdout",
          "text": [
            "Train MAE: 26151.325665166038 \n",
            "Test MAE: 26611.218862247028\n"
          ]
        }
      ]
    },
    {
      "cell_type": "code",
      "source": [
        "y_pred = model1.predict(x_test)"
      ],
      "metadata": {
        "id": "UOhV3rGrow-Q"
      },
      "execution_count": 49,
      "outputs": []
    },
    {
      "cell_type": "code",
      "source": [
        "from sklearn.metrics import r2_score\n",
        "r2_score(y_test, y_pred)"
      ],
      "metadata": {
        "colab": {
          "base_uri": "https://localhost:8080/"
        },
        "id": "CXEhrZQpo2gD",
        "outputId": "16ae7914-0525-4941-a066-ee403c73ac06"
      },
      "execution_count": 50,
      "outputs": [
        {
          "output_type": "execute_result",
          "data": {
            "text/plain": [
              "0.7824121391390594"
            ]
          },
          "metadata": {},
          "execution_count": 50
        }
      ]
    },
    {
      "cell_type": "markdown",
      "source": [
        "Polynomial Regression"
      ],
      "metadata": {
        "id": "uuYYXAeYrDyJ"
      }
    },
    {
      "cell_type": "code",
      "source": [
        "poly = PolynomialFeatures(degree = 2)\n",
        "x_train_poly = poly.fit_transform(x_train)\n",
        "x_test_poly = poly.fit_transform(x_test)\n",
        "model2 = LinearRegression()\n",
        "model2.fit(x_train_poly,y_train)"
      ],
      "metadata": {
        "colab": {
          "base_uri": "https://localhost:8080/",
          "height": 74
        },
        "id": "BTABlA8Pqygc",
        "outputId": "c43155b3-096d-4775-90f9-4782e0281acf"
      },
      "execution_count": 51,
      "outputs": [
        {
          "output_type": "execute_result",
          "data": {
            "text/plain": [
              "LinearRegression()"
            ],
            "text/html": [
              "<style>#sk-container-id-4 {color: black;background-color: white;}#sk-container-id-4 pre{padding: 0;}#sk-container-id-4 div.sk-toggleable {background-color: white;}#sk-container-id-4 label.sk-toggleable__label {cursor: pointer;display: block;width: 100%;margin-bottom: 0;padding: 0.3em;box-sizing: border-box;text-align: center;}#sk-container-id-4 label.sk-toggleable__label-arrow:before {content: \"▸\";float: left;margin-right: 0.25em;color: #696969;}#sk-container-id-4 label.sk-toggleable__label-arrow:hover:before {color: black;}#sk-container-id-4 div.sk-estimator:hover label.sk-toggleable__label-arrow:before {color: black;}#sk-container-id-4 div.sk-toggleable__content {max-height: 0;max-width: 0;overflow: hidden;text-align: left;background-color: #f0f8ff;}#sk-container-id-4 div.sk-toggleable__content pre {margin: 0.2em;color: black;border-radius: 0.25em;background-color: #f0f8ff;}#sk-container-id-4 input.sk-toggleable__control:checked~div.sk-toggleable__content {max-height: 200px;max-width: 100%;overflow: auto;}#sk-container-id-4 input.sk-toggleable__control:checked~label.sk-toggleable__label-arrow:before {content: \"▾\";}#sk-container-id-4 div.sk-estimator input.sk-toggleable__control:checked~label.sk-toggleable__label {background-color: #d4ebff;}#sk-container-id-4 div.sk-label input.sk-toggleable__control:checked~label.sk-toggleable__label {background-color: #d4ebff;}#sk-container-id-4 input.sk-hidden--visually {border: 0;clip: rect(1px 1px 1px 1px);clip: rect(1px, 1px, 1px, 1px);height: 1px;margin: -1px;overflow: hidden;padding: 0;position: absolute;width: 1px;}#sk-container-id-4 div.sk-estimator {font-family: monospace;background-color: #f0f8ff;border: 1px dotted black;border-radius: 0.25em;box-sizing: border-box;margin-bottom: 0.5em;}#sk-container-id-4 div.sk-estimator:hover {background-color: #d4ebff;}#sk-container-id-4 div.sk-parallel-item::after {content: \"\";width: 100%;border-bottom: 1px solid gray;flex-grow: 1;}#sk-container-id-4 div.sk-label:hover label.sk-toggleable__label {background-color: #d4ebff;}#sk-container-id-4 div.sk-serial::before {content: \"\";position: absolute;border-left: 1px solid gray;box-sizing: border-box;top: 0;bottom: 0;left: 50%;z-index: 0;}#sk-container-id-4 div.sk-serial {display: flex;flex-direction: column;align-items: center;background-color: white;padding-right: 0.2em;padding-left: 0.2em;position: relative;}#sk-container-id-4 div.sk-item {position: relative;z-index: 1;}#sk-container-id-4 div.sk-parallel {display: flex;align-items: stretch;justify-content: center;background-color: white;position: relative;}#sk-container-id-4 div.sk-item::before, #sk-container-id-4 div.sk-parallel-item::before {content: \"\";position: absolute;border-left: 1px solid gray;box-sizing: border-box;top: 0;bottom: 0;left: 50%;z-index: -1;}#sk-container-id-4 div.sk-parallel-item {display: flex;flex-direction: column;z-index: 1;position: relative;background-color: white;}#sk-container-id-4 div.sk-parallel-item:first-child::after {align-self: flex-end;width: 50%;}#sk-container-id-4 div.sk-parallel-item:last-child::after {align-self: flex-start;width: 50%;}#sk-container-id-4 div.sk-parallel-item:only-child::after {width: 0;}#sk-container-id-4 div.sk-dashed-wrapped {border: 1px dashed gray;margin: 0 0.4em 0.5em 0.4em;box-sizing: border-box;padding-bottom: 0.4em;background-color: white;}#sk-container-id-4 div.sk-label label {font-family: monospace;font-weight: bold;display: inline-block;line-height: 1.2em;}#sk-container-id-4 div.sk-label-container {text-align: center;}#sk-container-id-4 div.sk-container {/* jupyter's `normalize.less` sets `[hidden] { display: none; }` but bootstrap.min.css set `[hidden] { display: none !important; }` so we also need the `!important` here to be able to override the default hidden behavior on the sphinx rendered scikit-learn.org. See: https://github.com/scikit-learn/scikit-learn/issues/21755 */display: inline-block !important;position: relative;}#sk-container-id-4 div.sk-text-repr-fallback {display: none;}</style><div id=\"sk-container-id-4\" class=\"sk-top-container\"><div class=\"sk-text-repr-fallback\"><pre>LinearRegression()</pre><b>In a Jupyter environment, please rerun this cell to show the HTML representation or trust the notebook. <br />On GitHub, the HTML representation is unable to render, please try loading this page with nbviewer.org.</b></div><div class=\"sk-container\" hidden><div class=\"sk-item\"><div class=\"sk-estimator sk-toggleable\"><input class=\"sk-toggleable__control sk-hidden--visually\" id=\"sk-estimator-id-4\" type=\"checkbox\" checked><label for=\"sk-estimator-id-4\" class=\"sk-toggleable__label sk-toggleable__label-arrow\">LinearRegression</label><div class=\"sk-toggleable__content\"><pre>LinearRegression()</pre></div></div></div></div></div>"
            ]
          },
          "metadata": {},
          "execution_count": 51
        }
      ]
    },
    {
      "cell_type": "code",
      "source": [
        "y_pred_poly = model2.predict(x_train_poly)"
      ],
      "metadata": {
        "id": "Q0cwYfG9rPr3"
      },
      "execution_count": 52,
      "outputs": []
    },
    {
      "cell_type": "code",
      "source": [
        "y_train_pred_poly = model2.predict(x_train_poly)\n",
        "y_test_pred_poly = model2.predict(x_test_poly)\n",
        "mae_train_poly = mean_absolute_error(y_train,y_train_pred_poly)\n",
        "mae_test_poly = mean_absolute_error(y_test,y_test_pred_poly)\n",
        "print('Train MAE:',mae_train_poly,'\\nTest MAE:',mae_test_poly)"
      ],
      "metadata": {
        "colab": {
          "base_uri": "https://localhost:8080/"
        },
        "id": "e-jk2oavrVDV",
        "outputId": "97db1a82-a018-408f-9ea9-c2ca266ca850"
      },
      "execution_count": 53,
      "outputs": [
        {
          "output_type": "stream",
          "name": "stdout",
          "text": [
            "Train MAE: 24064.996426719816 \n",
            "Test MAE: 23891.087783713607\n"
          ]
        }
      ]
    },
    {
      "cell_type": "code",
      "source": [
        "r2_score(y_test, model2.predict(x_test_poly))"
      ],
      "metadata": {
        "colab": {
          "base_uri": "https://localhost:8080/"
        },
        "id": "wzRenVHbrsdS",
        "outputId": "20e7386f-24a5-4f49-b6ae-59c28dc83f90"
      },
      "execution_count": 54,
      "outputs": [
        {
          "output_type": "execute_result",
          "data": {
            "text/plain": [
              "0.8186512260824257"
            ]
          },
          "metadata": {},
          "execution_count": 54
        }
      ]
    },
    {
      "cell_type": "code",
      "source": [
        "from tensorflow.keras.models import Sequential,Model\n",
        "from tensorflow.keras.layers import Dense,Input,Dropout\n",
        "from tensorflow.keras.utils import to_categorical,plot_model\n",
        "import keras\n",
        "from keras.models import Sequential\n",
        "from keras.layers import Activation\n",
        "from keras.optimizers import Adam\n",
        "from keras.metrics import categorical_crossentropy"
      ],
      "metadata": {
        "id": "9sGQJa53uISy"
      },
      "execution_count": 55,
      "outputs": []
    },
    {
      "cell_type": "code",
      "source": [
        "x_train, x_test, y_train, y_test = train_test_split(df2.drop(columns = ['target']), df2['target'], test_size = 0.25,random_state = 42)"
      ],
      "metadata": {
        "id": "CuraVxb-sFcP"
      },
      "execution_count": 56,
      "outputs": []
    },
    {
      "cell_type": "code",
      "source": [
        "from sklearn.compose import ColumnTransformer\n",
        "scaler = MinMaxScaler()\n",
        "cols_to_scale = ['age','trestbps','chol','thalach','oldpeak']"
      ],
      "metadata": {
        "id": "yfpLrsR_zMek"
      },
      "execution_count": 57,
      "outputs": []
    },
    {
      "cell_type": "code",
      "source": [
        "scaler.fit(x_train[cols_to_scale])\n",
        "x_train[cols_to_scale] = scaler.transform(x_train[cols_to_scale])\n",
        "x_test[cols_to_scale] = scaler.transform(x_test[cols_to_scale])"
      ],
      "metadata": {
        "id": "STds4tmP3ec0"
      },
      "execution_count": 58,
      "outputs": []
    },
    {
      "cell_type": "code",
      "source": [
        "!pip install tensorFlow"
      ],
      "metadata": {
        "colab": {
          "base_uri": "https://localhost:8080/"
        },
        "id": "fw7ucUx0Ignx",
        "outputId": "b071cf92-e7c4-4278-d708-3ddbc2bb007d"
      },
      "execution_count": 59,
      "outputs": [
        {
          "output_type": "stream",
          "name": "stdout",
          "text": [
            "Requirement already satisfied: tensorFlow in /usr/local/lib/python3.10/dist-packages (2.12.0)\n",
            "Requirement already satisfied: absl-py>=1.0.0 in /usr/local/lib/python3.10/dist-packages (from tensorFlow) (1.4.0)\n",
            "Requirement already satisfied: astunparse>=1.6.0 in /usr/local/lib/python3.10/dist-packages (from tensorFlow) (1.6.3)\n",
            "Requirement already satisfied: flatbuffers>=2.0 in /usr/local/lib/python3.10/dist-packages (from tensorFlow) (23.5.26)\n",
            "Requirement already satisfied: gast<=0.4.0,>=0.2.1 in /usr/local/lib/python3.10/dist-packages (from tensorFlow) (0.4.0)\n",
            "Requirement already satisfied: google-pasta>=0.1.1 in /usr/local/lib/python3.10/dist-packages (from tensorFlow) (0.2.0)\n",
            "Requirement already satisfied: grpcio<2.0,>=1.24.3 in /usr/local/lib/python3.10/dist-packages (from tensorFlow) (1.57.0)\n",
            "Requirement already satisfied: h5py>=2.9.0 in /usr/local/lib/python3.10/dist-packages (from tensorFlow) (3.9.0)\n",
            "Requirement already satisfied: jax>=0.3.15 in /usr/local/lib/python3.10/dist-packages (from tensorFlow) (0.4.14)\n",
            "Requirement already satisfied: keras<2.13,>=2.12.0 in /usr/local/lib/python3.10/dist-packages (from tensorFlow) (2.12.0)\n",
            "Requirement already satisfied: libclang>=13.0.0 in /usr/local/lib/python3.10/dist-packages (from tensorFlow) (16.0.6)\n",
            "Requirement already satisfied: numpy<1.24,>=1.22 in /usr/local/lib/python3.10/dist-packages (from tensorFlow) (1.23.5)\n",
            "Requirement already satisfied: opt-einsum>=2.3.2 in /usr/local/lib/python3.10/dist-packages (from tensorFlow) (3.3.0)\n",
            "Requirement already satisfied: packaging in /usr/local/lib/python3.10/dist-packages (from tensorFlow) (23.1)\n",
            "Requirement already satisfied: protobuf!=4.21.0,!=4.21.1,!=4.21.2,!=4.21.3,!=4.21.4,!=4.21.5,<5.0.0dev,>=3.20.3 in /usr/local/lib/python3.10/dist-packages (from tensorFlow) (3.20.3)\n",
            "Requirement already satisfied: setuptools in /usr/local/lib/python3.10/dist-packages (from tensorFlow) (67.7.2)\n",
            "Requirement already satisfied: six>=1.12.0 in /usr/local/lib/python3.10/dist-packages (from tensorFlow) (1.16.0)\n",
            "Requirement already satisfied: tensorboard<2.13,>=2.12 in /usr/local/lib/python3.10/dist-packages (from tensorFlow) (2.12.3)\n",
            "Requirement already satisfied: tensorflow-estimator<2.13,>=2.12.0 in /usr/local/lib/python3.10/dist-packages (from tensorFlow) (2.12.0)\n",
            "Requirement already satisfied: termcolor>=1.1.0 in /usr/local/lib/python3.10/dist-packages (from tensorFlow) (2.3.0)\n",
            "Requirement already satisfied: typing-extensions>=3.6.6 in /usr/local/lib/python3.10/dist-packages (from tensorFlow) (4.7.1)\n",
            "Requirement already satisfied: wrapt<1.15,>=1.11.0 in /usr/local/lib/python3.10/dist-packages (from tensorFlow) (1.14.1)\n",
            "Requirement already satisfied: tensorflow-io-gcs-filesystem>=0.23.1 in /usr/local/lib/python3.10/dist-packages (from tensorFlow) (0.33.0)\n",
            "Requirement already satisfied: wheel<1.0,>=0.23.0 in /usr/local/lib/python3.10/dist-packages (from astunparse>=1.6.0->tensorFlow) (0.41.2)\n",
            "Requirement already satisfied: ml-dtypes>=0.2.0 in /usr/local/lib/python3.10/dist-packages (from jax>=0.3.15->tensorFlow) (0.2.0)\n",
            "Requirement already satisfied: scipy>=1.7 in /usr/local/lib/python3.10/dist-packages (from jax>=0.3.15->tensorFlow) (1.10.1)\n",
            "Requirement already satisfied: google-auth<3,>=1.6.3 in /usr/local/lib/python3.10/dist-packages (from tensorboard<2.13,>=2.12->tensorFlow) (2.17.3)\n",
            "Requirement already satisfied: google-auth-oauthlib<1.1,>=0.5 in /usr/local/lib/python3.10/dist-packages (from tensorboard<2.13,>=2.12->tensorFlow) (1.0.0)\n",
            "Requirement already satisfied: markdown>=2.6.8 in /usr/local/lib/python3.10/dist-packages (from tensorboard<2.13,>=2.12->tensorFlow) (3.4.4)\n",
            "Requirement already satisfied: requests<3,>=2.21.0 in /usr/local/lib/python3.10/dist-packages (from tensorboard<2.13,>=2.12->tensorFlow) (2.31.0)\n",
            "Requirement already satisfied: tensorboard-data-server<0.8.0,>=0.7.0 in /usr/local/lib/python3.10/dist-packages (from tensorboard<2.13,>=2.12->tensorFlow) (0.7.1)\n",
            "Requirement already satisfied: werkzeug>=1.0.1 in /usr/local/lib/python3.10/dist-packages (from tensorboard<2.13,>=2.12->tensorFlow) (2.3.7)\n",
            "Requirement already satisfied: cachetools<6.0,>=2.0.0 in /usr/local/lib/python3.10/dist-packages (from google-auth<3,>=1.6.3->tensorboard<2.13,>=2.12->tensorFlow) (5.3.1)\n",
            "Requirement already satisfied: pyasn1-modules>=0.2.1 in /usr/local/lib/python3.10/dist-packages (from google-auth<3,>=1.6.3->tensorboard<2.13,>=2.12->tensorFlow) (0.3.0)\n",
            "Requirement already satisfied: rsa<5,>=3.1.4 in /usr/local/lib/python3.10/dist-packages (from google-auth<3,>=1.6.3->tensorboard<2.13,>=2.12->tensorFlow) (4.9)\n",
            "Requirement already satisfied: requests-oauthlib>=0.7.0 in /usr/local/lib/python3.10/dist-packages (from google-auth-oauthlib<1.1,>=0.5->tensorboard<2.13,>=2.12->tensorFlow) (1.3.1)\n",
            "Requirement already satisfied: charset-normalizer<4,>=2 in /usr/local/lib/python3.10/dist-packages (from requests<3,>=2.21.0->tensorboard<2.13,>=2.12->tensorFlow) (3.2.0)\n",
            "Requirement already satisfied: idna<4,>=2.5 in /usr/local/lib/python3.10/dist-packages (from requests<3,>=2.21.0->tensorboard<2.13,>=2.12->tensorFlow) (3.4)\n",
            "Requirement already satisfied: urllib3<3,>=1.21.1 in /usr/local/lib/python3.10/dist-packages (from requests<3,>=2.21.0->tensorboard<2.13,>=2.12->tensorFlow) (2.0.4)\n",
            "Requirement already satisfied: certifi>=2017.4.17 in /usr/local/lib/python3.10/dist-packages (from requests<3,>=2.21.0->tensorboard<2.13,>=2.12->tensorFlow) (2023.7.22)\n",
            "Requirement already satisfied: MarkupSafe>=2.1.1 in /usr/local/lib/python3.10/dist-packages (from werkzeug>=1.0.1->tensorboard<2.13,>=2.12->tensorFlow) (2.1.3)\n",
            "Requirement already satisfied: pyasn1<0.6.0,>=0.4.6 in /usr/local/lib/python3.10/dist-packages (from pyasn1-modules>=0.2.1->google-auth<3,>=1.6.3->tensorboard<2.13,>=2.12->tensorFlow) (0.5.0)\n",
            "Requirement already satisfied: oauthlib>=3.0.0 in /usr/local/lib/python3.10/dist-packages (from requests-oauthlib>=0.7.0->google-auth-oauthlib<1.1,>=0.5->tensorboard<2.13,>=2.12->tensorFlow) (3.2.2)\n"
          ]
        }
      ]
    },
    {
      "cell_type": "code",
      "source": [
        "from tensorflow.keras.models import Sequential\n",
        "from tensorflow.keras.layers import Dense, Dropout\n",
        "from tensorflow.keras.optimizers import Adam\n",
        "from tensorflow.keras.callbacks import EarlyStopping\n",
        "import warnings\n",
        "import seaborn as sb\n",
        "warnings.filterwarnings(\"ignore\")"
      ],
      "metadata": {
        "id": "iawm1l7LZ3xI"
      },
      "execution_count": 60,
      "outputs": []
    },
    {
      "cell_type": "code",
      "source": [
        "X_train,X_part,y_train,y_part = train_test_split(df1.drop(columns = ['SalePrice']),df1['SalePrice'],test_size = .2,random_state = 42)\n",
        "X_test,X_valid,y_test,y_valid = train_test_split(X_part,y_part,test_size = 0.1,random_state = 42)"
      ],
      "metadata": {
        "id": "bx0P_1BGgBr6"
      },
      "execution_count": 68,
      "outputs": []
    },
    {
      "cell_type": "code",
      "source": [
        "scaler = StandardScaler()\n",
        "X_train = scaler.fit_transform(X_train)\n",
        "X_valid = scaler.fit_transform(X_valid)\n",
        "X_test = scaler.fit_transform(X_test)"
      ],
      "metadata": {
        "id": "qHiG5adIg_nO"
      },
      "execution_count": 69,
      "outputs": []
    },
    {
      "cell_type": "code",
      "source": [
        "input_dim = X_train.shape[1]\n",
        "model = Sequential()\n",
        "model.add(Dense(16, input_dim=input_dim, activation='relu'))\n",
        "model.add(Dense(12, activation='relu'))\n",
        "model.add(Dense(8, activation='relu'))\n",
        "model.add(Dense(4, activation='relu'))\n",
        "model.add(Dense(1, activation='linear'))\n",
        "model.compile(loss='mean_absolute_percentage_error', optimizer=Adam())\n",
        "\n",
        "early_stopping = EarlyStopping(monitor='val_loss', patience=10,\n",
        "                               restore_best_weights=True)\n",
        "\n",
        "history = model.fit(X_train, y_train, epochs=120, batch_size=32,\n",
        "                    validation_data=(X_valid, y_valid),\n",
        "                    callbacks=[early_stopping])"
      ],
      "metadata": {
        "colab": {
          "base_uri": "https://localhost:8080/"
        },
        "id": "18JSrZUjhe6L",
        "outputId": "ea77c2b2-8ed6-4ee3-86cd-999473e3164b"
      },
      "execution_count": 70,
      "outputs": [
        {
          "output_type": "stream",
          "name": "stdout",
          "text": [
            "Epoch 1/120\n",
            "37/37 [==============================] - 1s 6ms/step - loss: 99.9996 - val_loss: 99.9991\n",
            "Epoch 2/120\n",
            "37/37 [==============================] - 0s 3ms/step - loss: 99.9986 - val_loss: 99.9971\n",
            "Epoch 3/120\n",
            "37/37 [==============================] - 0s 3ms/step - loss: 99.9957 - val_loss: 99.9918\n",
            "Epoch 4/120\n",
            "37/37 [==============================] - 0s 3ms/step - loss: 99.9885 - val_loss: 99.9778\n",
            "Epoch 5/120\n",
            "37/37 [==============================] - 0s 3ms/step - loss: 99.9691 - val_loss: 99.9425\n",
            "Epoch 6/120\n",
            "37/37 [==============================] - 0s 2ms/step - loss: 99.9240 - val_loss: 99.8622\n",
            "Epoch 7/120\n",
            "37/37 [==============================] - 0s 3ms/step - loss: 99.8259 - val_loss: 99.6973\n",
            "Epoch 8/120\n",
            "37/37 [==============================] - 0s 3ms/step - loss: 99.6316 - val_loss: 99.3838\n",
            "Epoch 9/120\n",
            "37/37 [==============================] - 0s 3ms/step - loss: 99.2885 - val_loss: 98.8440\n",
            "Epoch 10/120\n",
            "37/37 [==============================] - 0s 2ms/step - loss: 98.7210 - val_loss: 97.9799\n",
            "Epoch 11/120\n",
            "37/37 [==============================] - 0s 2ms/step - loss: 97.8219 - val_loss: 96.6641\n",
            "Epoch 12/120\n",
            "37/37 [==============================] - 0s 3ms/step - loss: 96.4963 - val_loss: 94.7190\n",
            "Epoch 13/120\n",
            "37/37 [==============================] - 0s 3ms/step - loss: 94.5936 - val_loss: 91.9923\n",
            "Epoch 14/120\n",
            "37/37 [==============================] - 0s 3ms/step - loss: 91.9562 - val_loss: 88.2377\n",
            "Epoch 15/120\n",
            "37/37 [==============================] - 0s 3ms/step - loss: 88.5169 - val_loss: 83.4626\n",
            "Epoch 16/120\n",
            "37/37 [==============================] - 0s 3ms/step - loss: 84.3462 - val_loss: 77.4046\n",
            "Epoch 17/120\n",
            "37/37 [==============================] - 0s 3ms/step - loss: 79.4039 - val_loss: 73.3131\n",
            "Epoch 18/120\n",
            "37/37 [==============================] - 0s 3ms/step - loss: 73.8755 - val_loss: 71.2366\n",
            "Epoch 19/120\n",
            "37/37 [==============================] - 0s 3ms/step - loss: 68.8192 - val_loss: 68.8217\n",
            "Epoch 20/120\n",
            "37/37 [==============================] - 0s 3ms/step - loss: 64.5665 - val_loss: 66.1663\n",
            "Epoch 21/120\n",
            "37/37 [==============================] - 0s 3ms/step - loss: 61.3628 - val_loss: 63.5102\n",
            "Epoch 22/120\n",
            "37/37 [==============================] - 0s 3ms/step - loss: 58.8124 - val_loss: 61.5063\n",
            "Epoch 23/120\n",
            "37/37 [==============================] - 0s 2ms/step - loss: 56.5938 - val_loss: 59.1133\n",
            "Epoch 24/120\n",
            "37/37 [==============================] - 0s 2ms/step - loss: 54.4317 - val_loss: 56.4479\n",
            "Epoch 25/120\n",
            "37/37 [==============================] - 0s 3ms/step - loss: 52.1705 - val_loss: 53.7889\n",
            "Epoch 26/120\n",
            "37/37 [==============================] - 0s 3ms/step - loss: 49.7913 - val_loss: 50.8879\n",
            "Epoch 27/120\n",
            "37/37 [==============================] - 0s 3ms/step - loss: 47.2512 - val_loss: 47.6691\n",
            "Epoch 28/120\n",
            "37/37 [==============================] - 0s 2ms/step - loss: 44.5901 - val_loss: 44.0331\n",
            "Epoch 29/120\n",
            "37/37 [==============================] - 0s 2ms/step - loss: 41.6804 - val_loss: 40.1368\n",
            "Epoch 30/120\n",
            "37/37 [==============================] - 0s 3ms/step - loss: 38.6037 - val_loss: 36.5561\n",
            "Epoch 31/120\n",
            "37/37 [==============================] - 0s 3ms/step - loss: 35.4598 - val_loss: 33.0024\n",
            "Epoch 32/120\n",
            "37/37 [==============================] - 0s 3ms/step - loss: 32.6248 - val_loss: 30.5185\n",
            "Epoch 33/120\n",
            "37/37 [==============================] - 0s 3ms/step - loss: 30.3972 - val_loss: 29.6438\n",
            "Epoch 34/120\n",
            "37/37 [==============================] - 0s 2ms/step - loss: 28.6370 - val_loss: 29.5765\n",
            "Epoch 35/120\n",
            "37/37 [==============================] - 0s 3ms/step - loss: 27.3085 - val_loss: 29.4234\n",
            "Epoch 36/120\n",
            "37/37 [==============================] - 0s 3ms/step - loss: 26.2681 - val_loss: 29.1811\n",
            "Epoch 37/120\n",
            "37/37 [==============================] - 0s 3ms/step - loss: 25.4382 - val_loss: 29.3321\n",
            "Epoch 38/120\n",
            "37/37 [==============================] - 0s 2ms/step - loss: 24.7154 - val_loss: 29.3087\n",
            "Epoch 39/120\n",
            "37/37 [==============================] - 0s 2ms/step - loss: 24.0791 - val_loss: 29.4445\n",
            "Epoch 40/120\n",
            "37/37 [==============================] - 0s 2ms/step - loss: 23.5452 - val_loss: 29.2968\n",
            "Epoch 41/120\n",
            "37/37 [==============================] - 0s 3ms/step - loss: 23.0615 - val_loss: 29.2616\n",
            "Epoch 42/120\n",
            "37/37 [==============================] - 0s 2ms/step - loss: 22.5859 - val_loss: 29.2529\n",
            "Epoch 43/120\n",
            "37/37 [==============================] - 0s 3ms/step - loss: 22.1765 - val_loss: 29.0168\n",
            "Epoch 44/120\n",
            "37/37 [==============================] - 0s 5ms/step - loss: 21.7269 - val_loss: 28.3123\n",
            "Epoch 45/120\n",
            "37/37 [==============================] - 0s 6ms/step - loss: 21.3303 - val_loss: 28.1819\n",
            "Epoch 46/120\n",
            "37/37 [==============================] - 0s 4ms/step - loss: 20.9777 - val_loss: 28.0437\n",
            "Epoch 47/120\n",
            "37/37 [==============================] - 0s 3ms/step - loss: 20.6452 - val_loss: 27.7456\n",
            "Epoch 48/120\n",
            "37/37 [==============================] - 0s 2ms/step - loss: 20.3313 - val_loss: 27.1955\n",
            "Epoch 49/120\n",
            "37/37 [==============================] - 0s 2ms/step - loss: 20.0373 - val_loss: 27.0082\n",
            "Epoch 50/120\n",
            "37/37 [==============================] - 0s 3ms/step - loss: 19.7586 - val_loss: 26.7740\n",
            "Epoch 51/120\n",
            "37/37 [==============================] - 0s 3ms/step - loss: 19.4911 - val_loss: 26.5455\n",
            "Epoch 52/120\n",
            "37/37 [==============================] - 0s 3ms/step - loss: 19.2447 - val_loss: 26.2814\n",
            "Epoch 53/120\n",
            "37/37 [==============================] - 0s 3ms/step - loss: 18.9840 - val_loss: 26.4449\n",
            "Epoch 54/120\n",
            "37/37 [==============================] - 0s 3ms/step - loss: 18.7372 - val_loss: 26.1892\n",
            "Epoch 55/120\n",
            "37/37 [==============================] - 0s 3ms/step - loss: 18.5106 - val_loss: 26.2775\n",
            "Epoch 56/120\n",
            "37/37 [==============================] - 0s 3ms/step - loss: 18.2866 - val_loss: 26.0006\n",
            "Epoch 57/120\n",
            "37/37 [==============================] - 0s 2ms/step - loss: 18.0669 - val_loss: 25.8557\n",
            "Epoch 58/120\n",
            "37/37 [==============================] - 0s 2ms/step - loss: 17.8802 - val_loss: 25.9911\n",
            "Epoch 59/120\n",
            "37/37 [==============================] - 0s 3ms/step - loss: 17.6637 - val_loss: 25.5731\n",
            "Epoch 60/120\n",
            "37/37 [==============================] - 0s 3ms/step - loss: 17.4949 - val_loss: 25.6156\n",
            "Epoch 61/120\n",
            "37/37 [==============================] - 0s 3ms/step - loss: 17.3300 - val_loss: 25.5287\n",
            "Epoch 62/120\n",
            "37/37 [==============================] - 0s 3ms/step - loss: 17.1697 - val_loss: 25.5234\n",
            "Epoch 63/120\n",
            "37/37 [==============================] - 0s 3ms/step - loss: 17.0262 - val_loss: 25.4775\n",
            "Epoch 64/120\n",
            "37/37 [==============================] - 0s 3ms/step - loss: 16.8592 - val_loss: 25.5917\n",
            "Epoch 65/120\n",
            "37/37 [==============================] - 0s 3ms/step - loss: 16.7222 - val_loss: 25.4178\n",
            "Epoch 66/120\n",
            "37/37 [==============================] - 0s 2ms/step - loss: 16.5983 - val_loss: 25.1113\n",
            "Epoch 67/120\n",
            "37/37 [==============================] - 0s 3ms/step - loss: 16.4593 - val_loss: 25.0506\n",
            "Epoch 68/120\n",
            "37/37 [==============================] - 0s 3ms/step - loss: 16.3340 - val_loss: 25.1595\n",
            "Epoch 69/120\n",
            "37/37 [==============================] - 0s 3ms/step - loss: 16.2226 - val_loss: 24.9060\n",
            "Epoch 70/120\n",
            "37/37 [==============================] - 0s 3ms/step - loss: 16.1081 - val_loss: 24.6917\n",
            "Epoch 71/120\n",
            "37/37 [==============================] - 0s 3ms/step - loss: 16.0122 - val_loss: 24.7346\n",
            "Epoch 72/120\n",
            "37/37 [==============================] - 0s 3ms/step - loss: 15.9054 - val_loss: 24.5062\n",
            "Epoch 73/120\n",
            "37/37 [==============================] - 0s 3ms/step - loss: 15.8114 - val_loss: 24.6108\n",
            "Epoch 74/120\n",
            "37/37 [==============================] - 0s 3ms/step - loss: 15.6968 - val_loss: 24.4642\n",
            "Epoch 75/120\n",
            "37/37 [==============================] - 0s 3ms/step - loss: 15.6081 - val_loss: 24.4498\n",
            "Epoch 76/120\n",
            "37/37 [==============================] - 0s 3ms/step - loss: 15.5192 - val_loss: 24.2406\n",
            "Epoch 77/120\n",
            "37/37 [==============================] - 0s 3ms/step - loss: 15.4335 - val_loss: 24.3370\n",
            "Epoch 78/120\n",
            "37/37 [==============================] - 0s 3ms/step - loss: 15.3787 - val_loss: 24.5308\n",
            "Epoch 79/120\n",
            "37/37 [==============================] - 0s 3ms/step - loss: 15.2971 - val_loss: 24.0953\n",
            "Epoch 80/120\n",
            "37/37 [==============================] - 0s 3ms/step - loss: 15.2393 - val_loss: 23.8904\n",
            "Epoch 81/120\n",
            "37/37 [==============================] - 0s 3ms/step - loss: 15.1740 - val_loss: 24.0309\n",
            "Epoch 82/120\n",
            "37/37 [==============================] - 0s 3ms/step - loss: 15.1455 - val_loss: 24.1261\n",
            "Epoch 83/120\n",
            "37/37 [==============================] - 0s 3ms/step - loss: 15.0604 - val_loss: 23.6978\n",
            "Epoch 84/120\n",
            "37/37 [==============================] - 0s 3ms/step - loss: 15.0243 - val_loss: 23.7436\n",
            "Epoch 85/120\n",
            "37/37 [==============================] - 0s 4ms/step - loss: 14.9865 - val_loss: 23.7608\n",
            "Epoch 86/120\n",
            "37/37 [==============================] - 0s 4ms/step - loss: 14.9286 - val_loss: 23.6041\n",
            "Epoch 87/120\n",
            "37/37 [==============================] - 0s 4ms/step - loss: 14.8830 - val_loss: 23.5743\n",
            "Epoch 88/120\n",
            "37/37 [==============================] - 0s 4ms/step - loss: 14.8435 - val_loss: 23.5783\n",
            "Epoch 89/120\n",
            "37/37 [==============================] - 0s 4ms/step - loss: 14.8042 - val_loss: 23.3108\n",
            "Epoch 90/120\n",
            "37/37 [==============================] - 0s 4ms/step - loss: 14.7779 - val_loss: 23.3254\n",
            "Epoch 91/120\n",
            "37/37 [==============================] - 0s 4ms/step - loss: 14.7572 - val_loss: 23.6718\n",
            "Epoch 92/120\n",
            "37/37 [==============================] - 0s 4ms/step - loss: 14.7265 - val_loss: 23.0382\n",
            "Epoch 93/120\n",
            "37/37 [==============================] - 0s 4ms/step - loss: 14.7002 - val_loss: 23.2927\n",
            "Epoch 94/120\n",
            "37/37 [==============================] - 0s 4ms/step - loss: 14.6581 - val_loss: 23.1783\n",
            "Epoch 95/120\n",
            "37/37 [==============================] - 0s 4ms/step - loss: 14.6442 - val_loss: 23.0521\n",
            "Epoch 96/120\n",
            "37/37 [==============================] - 0s 4ms/step - loss: 14.6060 - val_loss: 23.1105\n",
            "Epoch 97/120\n",
            "37/37 [==============================] - 0s 4ms/step - loss: 14.5848 - val_loss: 22.9948\n",
            "Epoch 98/120\n",
            "37/37 [==============================] - 0s 4ms/step - loss: 14.5629 - val_loss: 22.9984\n",
            "Epoch 99/120\n",
            "37/37 [==============================] - 0s 4ms/step - loss: 14.5403 - val_loss: 22.8892\n",
            "Epoch 100/120\n",
            "37/37 [==============================] - 0s 4ms/step - loss: 14.5194 - val_loss: 22.8881\n",
            "Epoch 101/120\n",
            "37/37 [==============================] - 0s 4ms/step - loss: 14.5002 - val_loss: 22.8991\n",
            "Epoch 102/120\n",
            "37/37 [==============================] - 0s 12ms/step - loss: 14.4880 - val_loss: 22.8101\n",
            "Epoch 103/120\n",
            "37/37 [==============================] - 0s 9ms/step - loss: 14.4633 - val_loss: 22.7151\n",
            "Epoch 104/120\n",
            "37/37 [==============================] - 0s 5ms/step - loss: 14.4384 - val_loss: 22.7928\n",
            "Epoch 105/120\n",
            "37/37 [==============================] - 0s 3ms/step - loss: 14.4378 - val_loss: 22.5081\n",
            "Epoch 106/120\n",
            "37/37 [==============================] - 0s 2ms/step - loss: 14.4108 - val_loss: 22.5562\n",
            "Epoch 107/120\n",
            "37/37 [==============================] - 0s 3ms/step - loss: 14.4012 - val_loss: 22.5398\n",
            "Epoch 108/120\n",
            "37/37 [==============================] - 0s 3ms/step - loss: 14.3904 - val_loss: 22.5713\n",
            "Epoch 109/120\n",
            "37/37 [==============================] - 0s 2ms/step - loss: 14.4049 - val_loss: 22.7272\n",
            "Epoch 110/120\n",
            "37/37 [==============================] - 0s 3ms/step - loss: 14.3684 - val_loss: 22.3469\n",
            "Epoch 111/120\n",
            "37/37 [==============================] - 0s 3ms/step - loss: 14.3518 - val_loss: 22.2153\n",
            "Epoch 112/120\n",
            "37/37 [==============================] - 0s 2ms/step - loss: 14.3346 - val_loss: 22.2778\n",
            "Epoch 113/120\n",
            "37/37 [==============================] - 0s 3ms/step - loss: 14.3191 - val_loss: 22.1750\n",
            "Epoch 114/120\n",
            "37/37 [==============================] - 0s 3ms/step - loss: 14.3274 - val_loss: 22.2195\n",
            "Epoch 115/120\n",
            "37/37 [==============================] - 0s 3ms/step - loss: 14.2998 - val_loss: 22.1977\n",
            "Epoch 116/120\n",
            "37/37 [==============================] - 0s 3ms/step - loss: 14.2881 - val_loss: 22.1791\n",
            "Epoch 117/120\n",
            "37/37 [==============================] - 0s 3ms/step - loss: 14.2840 - val_loss: 22.1240\n",
            "Epoch 118/120\n",
            "37/37 [==============================] - 0s 3ms/step - loss: 14.2787 - val_loss: 22.2122\n",
            "Epoch 119/120\n",
            "37/37 [==============================] - 0s 3ms/step - loss: 14.2697 - val_loss: 22.2889\n",
            "Epoch 120/120\n",
            "37/37 [==============================] - 0s 3ms/step - loss: 14.2618 - val_loss: 22.1016\n"
          ]
        }
      ]
    },
    {
      "cell_type": "code",
      "source": [
        "import matplotlib.pyplot as plt\n",
        "import seaborn as sb"
      ],
      "metadata": {
        "id": "ImQoaT6KicEa"
      },
      "execution_count": 71,
      "outputs": []
    },
    {
      "cell_type": "code",
      "source": [
        "plt.figure(figsize = (25,15))\n",
        "plt.plot(history.history['loss'],color = 'red',label = 'train_loss')\n",
        "plt.title('Loss and val_loss')\n",
        "plt.plot(history.history['val_loss'],color = 'green',label = 'val_loss')\n",
        "plt.legend()"
      ],
      "metadata": {
        "colab": {
          "base_uri": "https://localhost:8080/",
          "height": 744
        },
        "id": "9nkPEkP5iU7x",
        "outputId": "67cb37b2-a634-4b8c-9af8-bb67def809fc"
      },
      "execution_count": 72,
      "outputs": [
        {
          "output_type": "execute_result",
          "data": {
            "text/plain": [
              "<matplotlib.legend.Legend at 0x7e190af22500>"
            ]
          },
          "metadata": {},
          "execution_count": 72
        },
        {
          "output_type": "display_data",
          "data": {
            "text/plain": [
              "<Figure size 2500x1500 with 1 Axes>"
            ],
            "image/png": "[encoded data removed]"
          },
          "metadata": {}
        }
      ]
    },
    {
      "cell_type": "code",
      "source": [
        "y_pred = model.predict(X_test)\n",
        "r2_score(y_test, y_pred)"
      ],
      "metadata": {
        "colab": {
          "base_uri": "https://localhost:8080/"
        },
        "id": "O2SlW10uiedZ",
        "outputId": "0ad27b25-6dda-419e-b0b9-a82e29c66803"
      },
      "execution_count": 73,
      "outputs": [
        {
          "output_type": "stream",
          "name": "stdout",
          "text": [
            "9/9 [==============================] - 0s 2ms/step\n"
          ]
        },
        {
          "output_type": "execute_result",
          "data": {
            "text/plain": [
              "0.7974360490444766"
            ]
          },
          "metadata": {},
          "execution_count": 73
        }
      ]
    },
    {
      "cell_type": "code",
      "source": [
        "df2 = pd.read_csv('/content/heart.csv')"
      ],
      "metadata": {
        "id": "HPSStWSoihUM"
      },
      "execution_count": 74,
      "outputs": []
    },
    {
      "cell_type": "code",
      "source": [
        "df2.info()"
      ],
      "metadata": {
        "colab": {
          "base_uri": "https://localhost:8080/"
        },
        "id": "ho0TuPcoiyvU",
        "outputId": "4e89a76a-f19b-4cbb-b006-911ad564705e"
      },
      "execution_count": 75,
      "outputs": [
        {
          "output_type": "stream",
          "name": "stdout",
          "text": [
            "<class 'pandas.core.frame.DataFrame'>\n",
            "RangeIndex: 303 entries, 0 to 302\n",
            "Data columns (total 14 columns):\n",
            " #   Column    Non-Null Count  Dtype  \n",
            "---  ------    --------------  -----  \n",
            " 0   age       303 non-null    int64  \n",
            " 1   sex       303 non-null    int64  \n",
            " 2   cp        303 non-null    int64  \n",
            " 3   trestbps  303 non-null    int64  \n",
            " 4   chol      303 non-null    int64  \n",
            " 5   fbs       303 non-null    int64  \n",
            " 6   restecg   303 non-null    int64  \n",
            " 7   thalach   303 non-null    int64  \n",
            " 8   exang     303 non-null    int64  \n",
            " 9   oldpeak   303 non-null    float64\n",
            " 10  slope     303 non-null    int64  \n",
            " 11  ca        303 non-null    int64  \n",
            " 12  thal      303 non-null    int64  \n",
            " 13  target    303 non-null    int64  \n",
            "dtypes: float64(1), int64(13)\n",
            "memory usage: 33.3 KB\n"
          ]
        }
      ]
    },
    {
      "cell_type": "code",
      "source": [
        "heart_train,heart_part,y2_train,y2_part = train_test_split(df2.drop(columns = ['target']),df2['target'],test_size = .2,random_state = 42)\n",
        "heart_valid,heart_test,y2_valid,y2_test = train_test_split(heart_part,y2_part,test_size = 0.1,random_state = 42)"
      ],
      "metadata": {
        "id": "9BPtmV4bi1PR"
      },
      "execution_count": 89,
      "outputs": []
    },
    {
      "cell_type": "code",
      "source": [
        "scaler = StandardScaler()\n",
        "heart_train = scaler.fit_transform(heart_train)\n",
        "heart_valid = scaler.fit_transform(heart_valid)\n",
        "heart_test = scaler.fit_transform(heart_test)"
      ],
      "metadata": {
        "id": "ZWaV5vORjSQe"
      },
      "execution_count": 90,
      "outputs": []
    },
    {
      "cell_type": "code",
      "source": [
        "input_dim = heart_train.shape[1]\n",
        "model2 = Sequential()\n",
        "model2.add(Dense(12, input_dim=input_dim, activation='relu'))\n",
        "model2.add(Dense(8, activation='relu'))\n",
        "model2.add(Dense(1, activation='sigmoid'))\n",
        "model2.compile(loss='binary_crossentropy', optimizer=Adam(),metrics = ['accuracy'])\n",
        "\n",
        "early_stopping = EarlyStopping(monitor='val_loss', patience=10,\n",
        "                               restore_best_weights=True)\n",
        "\n",
        "history2 = model2.fit(heart_train, y2_train, epochs=120, batch_size=32,\n",
        "                    validation_data=(heart_valid, y2_valid),\n",
        "                    callbacks=[early_stopping])"
      ],
      "metadata": {
        "colab": {
          "base_uri": "https://localhost:8080/"
        },
        "id": "7Q56Jt07jVmM",
        "outputId": "ce249234-24da-4c28-ba4b-d8b5774a296f"
      },
      "execution_count": 91,
      "outputs": [
        {
          "output_type": "stream",
          "name": "stdout",
          "text": [
            "Epoch 1/120\n",
            "8/8 [==============================] - 1s 26ms/step - loss: 0.7920 - accuracy: 0.5537 - val_loss: 0.6687 - val_accuracy: 0.5556\n",
            "Epoch 2/120\n",
            "8/8 [==============================] - 0s 9ms/step - loss: 0.7476 - accuracy: 0.5579 - val_loss: 0.6320 - val_accuracy: 0.5741\n",
            "Epoch 3/120\n",
            "8/8 [==============================] - 0s 6ms/step - loss: 0.7107 - accuracy: 0.5702 - val_loss: 0.6029 - val_accuracy: 0.6111\n",
            "Epoch 4/120\n",
            "8/8 [==============================] - 0s 6ms/step - loss: 0.6780 - accuracy: 0.6240 - val_loss: 0.5804 - val_accuracy: 0.6852\n",
            "Epoch 5/120\n",
            "8/8 [==============================] - 0s 10ms/step - loss: 0.6509 - accuracy: 0.6364 - val_loss: 0.5604 - val_accuracy: 0.7037\n",
            "Epoch 6/120\n",
            "8/8 [==============================] - 0s 6ms/step - loss: 0.6290 - accuracy: 0.6612 - val_loss: 0.5423 - val_accuracy: 0.7407\n",
            "Epoch 7/120\n",
            "8/8 [==============================] - 0s 6ms/step - loss: 0.6068 - accuracy: 0.6860 - val_loss: 0.5279 - val_accuracy: 0.7407\n",
            "Epoch 8/120\n",
            "8/8 [==============================] - 0s 6ms/step - loss: 0.5899 - accuracy: 0.7025 - val_loss: 0.5157 - val_accuracy: 0.7407\n",
            "Epoch 9/120\n",
            "8/8 [==============================] - 0s 7ms/step - loss: 0.5739 - accuracy: 0.7397 - val_loss: 0.5050 - val_accuracy: 0.7593\n",
            "Epoch 10/120\n",
            "8/8 [==============================] - 0s 6ms/step - loss: 0.5591 - accuracy: 0.7562 - val_loss: 0.4951 - val_accuracy: 0.7778\n",
            "Epoch 11/120\n",
            "8/8 [==============================] - 0s 9ms/step - loss: 0.5452 - accuracy: 0.7645 - val_loss: 0.4856 - val_accuracy: 0.7963\n",
            "Epoch 12/120\n",
            "8/8 [==============================] - 0s 6ms/step - loss: 0.5328 - accuracy: 0.7851 - val_loss: 0.4760 - val_accuracy: 0.7963\n",
            "Epoch 13/120\n",
            "8/8 [==============================] - 0s 8ms/step - loss: 0.5198 - accuracy: 0.8017 - val_loss: 0.4673 - val_accuracy: 0.8148\n",
            "Epoch 14/120\n",
            "8/8 [==============================] - 0s 7ms/step - loss: 0.5083 - accuracy: 0.8058 - val_loss: 0.4584 - val_accuracy: 0.7963\n",
            "Epoch 15/120\n",
            "8/8 [==============================] - 0s 6ms/step - loss: 0.4973 - accuracy: 0.8017 - val_loss: 0.4504 - val_accuracy: 0.7963\n",
            "Epoch 16/120\n",
            "8/8 [==============================] - 0s 9ms/step - loss: 0.4859 - accuracy: 0.8099 - val_loss: 0.4423 - val_accuracy: 0.7963\n",
            "Epoch 17/120\n",
            "8/8 [==============================] - 0s 7ms/step - loss: 0.4760 - accuracy: 0.8099 - val_loss: 0.4340 - val_accuracy: 0.7963\n",
            "Epoch 18/120\n",
            "8/8 [==============================] - 0s 6ms/step - loss: 0.4654 - accuracy: 0.8099 - val_loss: 0.4260 - val_accuracy: 0.7963\n",
            "Epoch 19/120\n",
            "8/8 [==============================] - 0s 9ms/step - loss: 0.4553 - accuracy: 0.8140 - val_loss: 0.4184 - val_accuracy: 0.7963\n",
            "Epoch 20/120\n",
            "8/8 [==============================] - 0s 6ms/step - loss: 0.4461 - accuracy: 0.8223 - val_loss: 0.4114 - val_accuracy: 0.7963\n",
            "Epoch 21/120\n",
            "8/8 [==============================] - 0s 6ms/step - loss: 0.4377 - accuracy: 0.8223 - val_loss: 0.4047 - val_accuracy: 0.7963\n",
            "Epoch 22/120\n",
            "8/8 [==============================] - 0s 6ms/step - loss: 0.4292 - accuracy: 0.8306 - val_loss: 0.3986 - val_accuracy: 0.8148\n",
            "Epoch 23/120\n",
            "8/8 [==============================] - 0s 9ms/step - loss: 0.4211 - accuracy: 0.8347 - val_loss: 0.3925 - val_accuracy: 0.7963\n",
            "Epoch 24/120\n",
            "8/8 [==============================] - 0s 7ms/step - loss: 0.4132 - accuracy: 0.8388 - val_loss: 0.3868 - val_accuracy: 0.8148\n",
            "Epoch 25/120\n",
            "8/8 [==============================] - 0s 9ms/step - loss: 0.4058 - accuracy: 0.8388 - val_loss: 0.3817 - val_accuracy: 0.8333\n",
            "Epoch 26/120\n",
            "8/8 [==============================] - 0s 9ms/step - loss: 0.3986 - accuracy: 0.8388 - val_loss: 0.3765 - val_accuracy: 0.8148\n",
            "Epoch 27/120\n",
            "8/8 [==============================] - 0s 10ms/step - loss: 0.3919 - accuracy: 0.8347 - val_loss: 0.3722 - val_accuracy: 0.8148\n",
            "Epoch 28/120\n",
            "8/8 [==============================] - 0s 7ms/step - loss: 0.3859 - accuracy: 0.8306 - val_loss: 0.3677 - val_accuracy: 0.8148\n",
            "Epoch 29/120\n",
            "8/8 [==============================] - 0s 10ms/step - loss: 0.3801 - accuracy: 0.8306 - val_loss: 0.3646 - val_accuracy: 0.8148\n",
            "Epoch 30/120\n",
            "8/8 [==============================] - 0s 9ms/step - loss: 0.3749 - accuracy: 0.8347 - val_loss: 0.3614 - val_accuracy: 0.8148\n",
            "Epoch 31/120\n",
            "8/8 [==============================] - 0s 9ms/step - loss: 0.3692 - accuracy: 0.8347 - val_loss: 0.3585 - val_accuracy: 0.8148\n",
            "Epoch 32/120\n",
            "8/8 [==============================] - 0s 6ms/step - loss: 0.3647 - accuracy: 0.8306 - val_loss: 0.3554 - val_accuracy: 0.8148\n",
            "Epoch 33/120\n",
            "8/8 [==============================] - 0s 6ms/step - loss: 0.3597 - accuracy: 0.8264 - val_loss: 0.3525 - val_accuracy: 0.8148\n",
            "Epoch 34/120\n",
            "8/8 [==============================] - 0s 9ms/step - loss: 0.3555 - accuracy: 0.8306 - val_loss: 0.3508 - val_accuracy: 0.8148\n",
            "Epoch 35/120\n",
            "8/8 [==============================] - 0s 6ms/step - loss: 0.3508 - accuracy: 0.8306 - val_loss: 0.3490 - val_accuracy: 0.8148\n",
            "Epoch 36/120\n",
            "8/8 [==============================] - 0s 6ms/step - loss: 0.3471 - accuracy: 0.8347 - val_loss: 0.3469 - val_accuracy: 0.8148\n",
            "Epoch 37/120\n",
            "8/8 [==============================] - 0s 7ms/step - loss: 0.3439 - accuracy: 0.8430 - val_loss: 0.3456 - val_accuracy: 0.8148\n",
            "Epoch 38/120\n",
            "8/8 [==============================] - 0s 9ms/step - loss: 0.3407 - accuracy: 0.8430 - val_loss: 0.3446 - val_accuracy: 0.8148\n",
            "Epoch 39/120\n",
            "8/8 [==============================] - 0s 11ms/step - loss: 0.3378 - accuracy: 0.8471 - val_loss: 0.3436 - val_accuracy: 0.8148\n",
            "Epoch 40/120\n",
            "8/8 [==============================] - 0s 11ms/step - loss: 0.3344 - accuracy: 0.8471 - val_loss: 0.3430 - val_accuracy: 0.8148\n",
            "Epoch 41/120\n",
            "8/8 [==============================] - 0s 10ms/step - loss: 0.3315 - accuracy: 0.8512 - val_loss: 0.3426 - val_accuracy: 0.8333\n",
            "Epoch 42/120\n",
            "8/8 [==============================] - 0s 9ms/step - loss: 0.3290 - accuracy: 0.8512 - val_loss: 0.3422 - val_accuracy: 0.8333\n",
            "Epoch 43/120\n",
            "8/8 [==============================] - 0s 11ms/step - loss: 0.3262 - accuracy: 0.8512 - val_loss: 0.3413 - val_accuracy: 0.8333\n",
            "Epoch 44/120\n",
            "8/8 [==============================] - 0s 12ms/step - loss: 0.3237 - accuracy: 0.8512 - val_loss: 0.3405 - val_accuracy: 0.8333\n",
            "Epoch 45/120\n",
            "8/8 [==============================] - 0s 10ms/step - loss: 0.3211 - accuracy: 0.8636 - val_loss: 0.3407 - val_accuracy: 0.8333\n",
            "Epoch 46/120\n",
            "8/8 [==============================] - 0s 11ms/step - loss: 0.3186 - accuracy: 0.8636 - val_loss: 0.3401 - val_accuracy: 0.8333\n",
            "Epoch 47/120\n",
            "8/8 [==============================] - 0s 11ms/step - loss: 0.3163 - accuracy: 0.8678 - val_loss: 0.3399 - val_accuracy: 0.8333\n",
            "Epoch 48/120\n",
            "8/8 [==============================] - 0s 8ms/step - loss: 0.3138 - accuracy: 0.8678 - val_loss: 0.3402 - val_accuracy: 0.8333\n",
            "Epoch 49/120\n",
            "8/8 [==============================] - 0s 8ms/step - loss: 0.3115 - accuracy: 0.8719 - val_loss: 0.3405 - val_accuracy: 0.8333\n",
            "Epoch 50/120\n",
            "8/8 [==============================] - 0s 8ms/step - loss: 0.3097 - accuracy: 0.8760 - val_loss: 0.3402 - val_accuracy: 0.8333\n",
            "Epoch 51/120\n",
            "8/8 [==============================] - 0s 8ms/step - loss: 0.3074 - accuracy: 0.8760 - val_loss: 0.3405 - val_accuracy: 0.8333\n",
            "Epoch 52/120\n",
            "8/8 [==============================] - 0s 11ms/step - loss: 0.3053 - accuracy: 0.8760 - val_loss: 0.3408 - val_accuracy: 0.8333\n",
            "Epoch 53/120\n",
            "8/8 [==============================] - 0s 11ms/step - loss: 0.3032 - accuracy: 0.8760 - val_loss: 0.3411 - val_accuracy: 0.8333\n",
            "Epoch 54/120\n",
            "8/8 [==============================] - 0s 9ms/step - loss: 0.3013 - accuracy: 0.8760 - val_loss: 0.3414 - val_accuracy: 0.8333\n",
            "Epoch 55/120\n",
            "8/8 [==============================] - 0s 11ms/step - loss: 0.2994 - accuracy: 0.8760 - val_loss: 0.3421 - val_accuracy: 0.8519\n",
            "Epoch 56/120\n",
            "8/8 [==============================] - 0s 9ms/step - loss: 0.2977 - accuracy: 0.8802 - val_loss: 0.3423 - val_accuracy: 0.8519\n",
            "Epoch 57/120\n",
            "8/8 [==============================] - 0s 11ms/step - loss: 0.2959 - accuracy: 0.8802 - val_loss: 0.3427 - val_accuracy: 0.8519\n"
          ]
        }
      ]
    },
    {
      "cell_type": "code",
      "source": [
        "fig,ax = plt.subplots(1,2,figsize = (25,5))\n",
        "ax[0].plot(history2.history['loss'],color = 'red',label = 'train_loss')\n",
        "ax[0].set_title('Loss and val_loss')\n",
        "ax[0].plot(history2.history['val_loss'],color = 'green',label = 'val_loss')\n",
        "ax[0].legend()\n",
        "ax[1].plot(history2.history['accuracy'],color = 'orange',label = 'train_accuracy')\n",
        "ax[1].set_title('accuracy and val_accuracy')\n",
        "ax[1].plot(history2.history['val_accuracy'],color = 'black',label = 'val_accuarcy')\n",
        "ax[1].legend()"
      ],
      "metadata": {
        "colab": {
          "base_uri": "https://localhost:8080/",
          "height": 297
        },
        "id": "IIkNdzYPjZvM",
        "outputId": "5a0d3c14-47f4-48a7-d91b-2a7322a78788"
      },
      "execution_count": 92,
      "outputs": [
        {
          "output_type": "execute_result",
          "data": {
            "text/plain": [
              "<matplotlib.legend.Legend at 0x7e1902a63f70>"
            ]
          },
          "metadata": {},
          "execution_count": 92
        },
        {
          "output_type": "display_data",
          "data": {
            "text/plain": [
              "<Figure size 2500x500 with 2 Axes>"
            ],
            "image/png": "[encoded data removed]"
          },
          "metadata": {}
        }
      ]
    },
    {
      "cell_type": "code",
      "source": [
        "from sklearn.metrics import accuracy_score, precision_score, recall_score, mean_squared_error, r2_score"
      ],
      "metadata": {
        "id": "BVMY6Q4ljs-J"
      },
      "execution_count": 93,
      "outputs": []
    },
    {
      "cell_type": "code",
      "source": [
        "y2_pred = model2.predict(heart_test)\n",
        "y2_pred = (y2_pred > 0.5).astype(int)\n",
        "accuracy_score(y2_test, y2_pred)"
      ],
      "metadata": {
        "colab": {
          "base_uri": "https://localhost:8080/"
        },
        "id": "nouY-P8qjcBr",
        "outputId": "a45a073a-cc9d-400e-a539-cc6311bdf155"
      },
      "execution_count": 94,
      "outputs": [
        {
          "output_type": "stream",
          "name": "stdout",
          "text": [
            "1/1 [==============================] - 0s 200ms/step\n"
          ]
        },
        {
          "output_type": "execute_result",
          "data": {
            "text/plain": [
              "0.8571428571428571"
            ]
          },
          "metadata": {},
          "execution_count": 94
        }
      ]
    },
    {
      "cell_type": "code",
      "source": [],
      "metadata": {
        "id": "lQ66e0ujjj-_"
      },
      "execution_count": null,
      "outputs": []
    }
  ]
}